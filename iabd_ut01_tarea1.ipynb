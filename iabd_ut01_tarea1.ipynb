{
  "nbformat": 4,
  "nbformat_minor": 0,
  "metadata": {
    "colab": {
      "provenance": []
    },
    "kernelspec": {
      "name": "python3",
      "display_name": "Python 3"
    },
    "language_info": {
      "name": "python"
    }
  },
  "cells": [
    {
      "cell_type": "markdown",
      "source": [
        "# ***1. (7 puntos) Inicia sesión en GoogleColab y crea un nuevo cuaderno de nombre iabd_ut01_tarea1.ipynb. A continuación, realiza lo siguiente en él:***"
      ],
      "metadata": {
        "id": "Z6y6u7kY1EfU"
      }
    },
    {
      "cell_type": "markdown",
      "source": [
        "# Adoney Tejera Santana"
      ],
      "metadata": {
        "id": "ejEhP6sAvg3I"
      }
    },
    {
      "cell_type": "markdown",
      "source": [
        "b. (1,0 puntos) En una nueva celda de código, crea una lista de nombre tenistas con los siguientes\n",
        "elementos: Novak Djokovic, Rafael Nadal, Roger Federer, Pete Sampras, Roy Emerson. Crea otra lista de nombre grand_slams con los siguientes elementos: 24, 22, 20, 14, 12.\n",
        "Imprime por pantalla las dos"
      ],
      "metadata": {
        "id": "mBmQ7c2i03KS"
      }
    },
    {
      "cell_type": "code",
      "source": [
        "tenistas = [\"Novak Djokovic\", \"Rafael Nadal\", \"Roger Federer\", \"Pete Sampras\", \"Roy Emerson\"]\n",
        "grand_slams = [24, 22, 20, 14, 12]\n",
        "\n",
        "print(tenistas)\n",
        "print(grand_slams)"
      ],
      "metadata": {
        "colab": {
          "base_uri": "https://localhost:8080/"
        },
        "id": "CBAQcIl7vlZD",
        "outputId": "564e324e-925e-4564-9915-e10f0523e09f"
      },
      "execution_count": 2,
      "outputs": [
        {
          "output_type": "stream",
          "name": "stdout",
          "text": [
            "['Novak Djokovic', 'Rafael Nadal', 'Roger Federer', 'Pete Sampras', 'Roy Emerson']\n",
            "[24, 22, 20, 14, 12]\n"
          ]
        }
      ]
    },
    {
      "cell_type": "markdown",
      "source": [
        "c. (1,0 puntos) En una nueva celda de código, crea un diccionario de nombre dic donde la clave de\n",
        "cada elemento sea el nombre de un tenista y su valor el número de Grand Slams ganados.\n",
        "Imprime por pantalla el diccionario.\n"
      ],
      "metadata": {
        "id": "9sUV9ou-05VV"
      }
    },
    {
      "cell_type": "code",
      "source": [
        "dic = dict()\n",
        "\n",
        "for index in range(len(tenistas)):\n",
        "  dic[tenistas[index]] = grand_slams[index]\n",
        "\n",
        "print(dic)"
      ],
      "metadata": {
        "colab": {
          "base_uri": "https://localhost:8080/"
        },
        "id": "qaT8zqfcy8jf",
        "outputId": "02d37a23-8827-49f4-9e1f-7d6440d2809c"
      },
      "execution_count": 3,
      "outputs": [
        {
          "output_type": "stream",
          "name": "stdout",
          "text": [
            "{'Novak Djokovic': 24, 'Rafael Nadal': 22, 'Roger Federer': 20, 'Pete Sampras': 14, 'Roy Emerson': 12}\n"
          ]
        }
      ]
    },
    {
      "cell_type": "markdown",
      "source": [
        "d. (2,0 puntos) Crea una función de nombre get_tenistas que reciba como parámetro el diccionario\n",
        "dic y muestre los datos del diccionario en la forma Nombre del jugador: X Grand Slams\n",
        "ganados. El resultado debería ser como sigue:\n",
        "Novak Djokovic: 24 Grand Slams ganados.\n",
        "Rafael Nadal: 22 Grand Slams ganados."
      ],
      "metadata": {
        "id": "RpQivLRF09eh"
      }
    },
    {
      "cell_type": "code",
      "source": [
        "def get_tenistas(diccionario):\n",
        "  for key in diccionario:\n",
        "    print(f\"{key}: {diccionario[key]} Grand Slams ganados.\")\n",
        "\n",
        "get_tenistas(dic)"
      ],
      "metadata": {
        "colab": {
          "base_uri": "https://localhost:8080/"
        },
        "id": "s5c9U6IZzM4L",
        "outputId": "5d3ac8e5-9a3b-4529-c733-cf8d1a67ba34"
      },
      "execution_count": 4,
      "outputs": [
        {
          "output_type": "stream",
          "name": "stdout",
          "text": [
            "Novak Djokovic: 24 Grand Slams ganados.\n",
            "Rafael Nadal: 22 Grand Slams ganados.\n",
            "Roger Federer: 20 Grand Slams ganados.\n",
            "Pete Sampras: 14 Grand Slams ganados.\n",
            "Roy Emerson: 12 Grand Slams ganados.\n"
          ]
        }
      ]
    },
    {
      "cell_type": "markdown",
      "source": [
        "e. (2,0 puntos) Define la clase Pais con un \"constructor\" que inicialice los atributos nombre, capital e idioma, que serán los datos a considerar en la clase. Dentro de ella, crea los métodos\n",
        "get_nombre, get_capital y get_idioma, que devolverán el nombre del país, su capital y el idioma\n",
        "hablado, respectivamente. A continuación, crea una instancia u objeto de la clase Pais,\n",
        "asignándole los datos que desees, y haz uso de los métodos implementados para mostrar un\n",
        "mensaje con la información almacenada."
      ],
      "metadata": {
        "id": "nemrkUSt1AeU"
      }
    },
    {
      "cell_type": "code",
      "source": [
        "class Pais :\n",
        "    def __init__(self, nombre, capital, idioma):\n",
        "        self.nombre = nombre\n",
        "        self.capital = capital\n",
        "        self.idioma = idioma\n",
        "\n",
        "    def get_nombre(self): return self.nombre\n",
        "\n",
        "    def get_capital(self): return self.capital\n",
        "\n",
        "    def get_idioma(self): return self.idioma\n",
        "\n",
        "españa = Pais(\"España\", \"Madrid\", \"Español\")\n",
        "print(f\"Nombre: {españa.get_nombre()}\")\n",
        "print(f\"Capital: {españa.get_capital()}\")\n",
        "print(f\"Idioma: {españa.get_idioma()}\")"
      ],
      "metadata": {
        "id": "z6HxY4dmzjbJ",
        "colab": {
          "base_uri": "https://localhost:8080/"
        },
        "outputId": "30194e6c-b713-41eb-c546-4061b86a515b"
      },
      "execution_count": 6,
      "outputs": [
        {
          "output_type": "stream",
          "name": "stdout",
          "text": [
            "Nombre: España\n",
            "Capital: Madrid\n",
            "Idioma: Español\n"
          ]
        }
      ]
    },
    {
      "cell_type": "markdown",
      "source": [
        "#2. (0,5 puntos) Accede a GitHub y regístrate si no lo has realizado todavía con la cuenta que estás utilizando con Google Colab."
      ],
      "metadata": {
        "id": "_uomDW991NBQ"
      }
    },
    {
      "cell_type": "markdown",
      "source": [
        "#3. (2,0 puntos) En tu cuenta de GitHub, crea un nuevo repositorio público de nombre pia_curso2526 inicializado con un fichero README. A continuación, edita el fichero README y modifica el título a Programación de Inteligencia Artificial e inserta el texto “UT 1. Introducción a la programación de IA” en una línea y “Tarea 1.1. Introducción a Google Colab y GitHub” en otra (en los textos respeta los estilos de fuente negrita y cursiva -utiliza Markdown-)."
      ],
      "metadata": {
        "id": "awm1qimd2fYz"
      }
    },
    {
      "cell_type": "markdown",
      "source": [
        "# 4. (0,5 puntos) Descarga como archivo .ipynb el cuaderno que creaste en la actividad 1 y súbelo a tu repositorio pia_curso2526"
      ],
      "metadata": {
        "id": "ZxdGxe7f2U_c"
      }
    }
  ]
}